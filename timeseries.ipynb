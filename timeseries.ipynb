{
 "cells": [
  {
   "cell_type": "markdown",
   "metadata": {},
   "source": [
    "# Setup\n"
   ]
  },
  {
   "cell_type": "code",
   "execution_count": null,
   "metadata": {},
   "outputs": [],
   "source": [
    "%reload_ext autoreload\n",
    "%autoreload 2\n",
    "\n",
    "from timeseries import ukf_rts_smooth\n",
    "from plotting import (\n",
    "    export_fig,\n",
    "    plot_co2,\n",
    "    get_co2_axes,\n",
    ")\n",
    "from project import PRESENTATION_MEDIA_DIR, DATA_DIR\n",
    "import pandas as pd\n",
    "import matplotlib.pyplot as plt\n",
    "from pathlib import Path"
   ]
  },
  {
   "cell_type": "markdown",
   "metadata": {},
   "source": [
    "# Process Timeseries\n"
   ]
  },
  {
   "cell_type": "code",
   "execution_count": null,
   "metadata": {},
   "outputs": [],
   "source": [
    "data_dir = DATA_DIR / \"2024-09-26/PI4\"\n",
    "\n",
    "for file_path in data_dir.glob(\"*.csv\"):\n",
    "    df = pd.read_csv(file_path)\n",
    "    if df[\"CO2\"].std() < 50:\n",
    "        print(file_path)\n",
    "        plt.plot(df[\"CO2\"])\n",
    "    # plt.ylim(400, 600)\n",
    "\n",
    "plt.show()"
   ]
  },
  {
   "cell_type": "markdown",
   "metadata": {},
   "source": [
    "## Points and Lines\n"
   ]
  },
  {
   "cell_type": "code",
   "execution_count": null,
   "metadata": {},
   "outputs": [],
   "source": [
    "df = pd.read_csv(\n",
    "    Path(\"data/co2_readings/processed/2024-09-26/PI4/2024-09-26 14_39_46.146124.csv\")\n",
    ")\n",
    "t = df[\"Time\"]\n",
    "co2 = df[\"CO2\"]\n",
    "fig, ax = plt.subplots()\n",
    "ax.scatter(t, co2, s=1)\n",
    "ax = get_co2_axes(ax)\n",
    "export_fig(fig, PRESENTATION_MEDIA_DIR / \"co2_points.svg\")\n",
    "ax.plot(t, co2)\n",
    "export_fig(fig, PRESENTATION_MEDIA_DIR / \"co2_line.svg\")\n",
    "\n",
    "df = pd.read_csv(\n",
    "    Path(\"data/co2_readings/processed/2024-10-18/PI3/2024-10-18 18_35_31.804712.csv\")\n",
    ")\n",
    "t = df[\"Time\"]\n",
    "co2 = df[\"CO2\"]\n",
    "fig, ax = plot_co2([t], [co2], [{}], plot_legend=False)\n",
    "export_fig(fig, PRESENTATION_MEDIA_DIR / \"co2_raw_2.svg\")"
   ]
  },
  {
   "cell_type": "markdown",
   "metadata": {},
   "source": [
    "## Good and Bad Data\n"
   ]
  },
  {
   "cell_type": "code",
   "execution_count": null,
   "metadata": {},
   "outputs": [],
   "source": [
    "fig, ax = plt.subplots()\n",
    "\n",
    "df = pd.read_csv(\n",
    "    Path(\"data/co2_readings/processed/2024-09-26/PI4/2024-09-26 14_39_46.146124.csv\")\n",
    ")\n",
    "t = df[\"Time\"]\n",
    "co2 = df[\"CO2\"]\n",
    "ax.plot(t, co2, label=\"Bad\")\n",
    "\n",
    "df = pd.read_csv(\n",
    "    \"data/co2_readings/processed/2024-09-26/PI3/2024-09-26 14_58_06.432300.csv\"\n",
    ")\n",
    "t = df[\"Time\"]\n",
    "co2 = df[\"CO2\"]\n",
    "ax.plot(t, co2, label=\"Good\")\n",
    "ax.legend()\n",
    "ax.set_xlim((-11.181157338619231, 250.04458330869673))\n",
    "ax = get_co2_axes(ax)\n",
    "export_fig(fig, PRESENTATION_MEDIA_DIR / \"co2_good_bad.svg\")"
   ]
  },
  {
   "cell_type": "code",
   "execution_count": null,
   "metadata": {},
   "outputs": [],
   "source": [
    "df = pd.read_csv(\n",
    "    Path(\"data/co2_readings/processed/2024-09-26/PI4/2024-09-26 14_39_46.146124.csv\")\n",
    ")\n",
    "t = df[\"Time\"]\n",
    "co2 = df[\"CO2\"]\n",
    "\n",
    "co2_smoothed = ukf_rts_smooth(t, co2, x0=500)\n",
    "\n",
    "fig, ax = plot_co2(\n",
    "    [t, t], [co2, co2_smoothed], [{\"label\": \"Raw\"}, {\"label\": \"Smoothed\"}]\n",
    ")\n",
    "export_fig(fig, PRESENTATION_MEDIA_DIR / \"co2_smoothed_1.svg\")\n",
    "ax.get_xlim()"
   ]
  },
  {
   "cell_type": "code",
   "execution_count": null,
   "metadata": {},
   "outputs": [],
   "source": [
    "df = pd.read_csv(\n",
    "    Path(\"data/co2_readings/processed/2024-10-18/PI3/2024-10-18 18_35_31.804712.csv\")\n",
    ")\n",
    "t = df[\"Time\"]\n",
    "co2 = df[\"CO2\"]\n",
    "\n",
    "co2_smoothed = ukf_rts_smooth(t, co2, R=100)\n",
    "\n",
    "fig, ax = plot_co2(\n",
    "    [t, t], [co2, co2_smoothed], [{\"label\": \"Raw\"}, {\"label\": \"Smoothed\"}]\n",
    ")\n",
    "export_fig(fig, PRESENTATION_MEDIA_DIR / \"co2_smoothed_2.svg\")"
   ]
  }
 ],
 "metadata": {
  "kernelspec": {
   "display_name": "co2",
   "language": "python",
   "name": "python3"
  },
  "language_info": {
   "codemirror_mode": {
    "name": "ipython",
    "version": 3
   },
   "file_extension": ".py",
   "mimetype": "text/x-python",
   "name": "python",
   "nbconvert_exporter": "python",
   "pygments_lexer": "ipython3",
   "version": "3.12.5"
  }
 },
 "nbformat": 4,
 "nbformat_minor": 2
}
