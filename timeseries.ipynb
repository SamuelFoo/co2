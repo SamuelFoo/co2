{
 "cells": [
  {
   "cell_type": "markdown",
   "metadata": {},
   "source": [
    "# Setup\n"
   ]
  },
  {
   "cell_type": "code",
   "execution_count": null,
   "metadata": {},
   "outputs": [],
   "source": [
    "%reload_ext autoreload\n",
    "%autoreload 2\n",
    "\n",
    "from timeseries import ukf_rts_smooth, process_timeseries, convert_pi4_to_pi3_co2, get_corrected_data\n",
    "from plotting import (\n",
    "    export_fig,\n",
    "    plot_co2,\n",
    "    get_co2_axes,\n",
    ")\n",
    "from project import PRESENTATION_MEDIA_DIR, DATA_DIR, CO2_DATABASE_PATH\n",
    "import pandas as pd\n",
    "import matplotlib.pyplot as plt\n",
    "from pathlib import Path\n",
    "from database import create_timeseries_data_table, delete_timeseries_data_table, get_co2_data_by_date\n",
    "from natsort import natsorted\n",
    "import seaborn as sns"
   ]
  },
  {
   "cell_type": "code",
   "execution_count": null,
   "metadata": {},
   "outputs": [],
   "source": [
    "delete_timeseries_data_table()"
   ]
  },
  {
   "cell_type": "code",
   "execution_count": null,
   "metadata": {},
   "outputs": [],
   "source": [
    "create_timeseries_data_table()"
   ]
  },
  {
   "cell_type": "markdown",
   "metadata": {},
   "source": [
    "# Process Timeseries\n"
   ]
  },
  {
   "cell_type": "code",
   "execution_count": null,
   "metadata": {},
   "outputs": [],
   "source": [
    "data_dir = DATA_DIR / \"2024-09-26/PI4\"\n",
    "\n",
    "for file_path in natsorted(data_dir.glob(\"*.csv\")):\n",
    "    df = pd.read_csv(file_path)\n",
    "    # if df[\"CO2\"].std() < 50:\n",
    "    print(file_path)\n",
    "    plt.plot(df[\"Gas\"])\n",
    "    # plt.ylim(400, 600)\n",
    "\n",
    "plt.show()"
   ]
  },
  {
   "cell_type": "markdown",
   "metadata": {},
   "source": [
    "## 2024-09-26\n"
   ]
  },
  {
   "cell_type": "code",
   "execution_count": null,
   "metadata": {},
   "outputs": [],
   "source": [
    "date = \"2024-09-26\"\n",
    "pi = \"PI4\"\n",
    "\n",
    "parameters = {\n",
    "    (date, \"1222\"): {\"x0\": 530, \"x_start\": 50, \"show\": False},\n",
    "    (date, \"1242\"): {\"x_start\": 50, \"x_end\": 250, \"show\": False},\n",
    "    (date, \"1303\"): {\"R\": 5000, \"show\": False},\n",
    "    (date, \"1324\"): {\"show\": False},\n",
    "    (date, \"1338\"): {\"x_start\": 75, \"show\": False},\n",
    "    (date, \"1353\"): {\"R\": 2000, \"show\": False},\n",
    "    (date, \"1410\"): {\"show\": False},\n",
    "    (date, \"1425\"): {\"show\": False},\n",
    "    (date, \"1439\"): {\"show\": False},\n",
    "    (date, \"1458\"): {\"show\": False},\n",
    "    (date, \"1521\"): {\"x_end\": 170, \"show\": False},\n",
    "    (date, \"1548\"): {\"show\": False},\n",
    "}\n",
    "process_timeseries(date, pi, parameters)"
   ]
  },
  {
   "cell_type": "code",
   "execution_count": null,
   "metadata": {},
   "outputs": [],
   "source": [
    "date = \"2024-09-26\"\n",
    "pi = \"PI3\"\n",
    "\n",
    "parameters = {\n",
    "    (date, \"1222\"): {\"x0\": 400, \"x_start\": 50, \"show\": False},\n",
    "    (date, \"1243\"): {\"show\": False},\n",
    "    (date, \"1302\"): {\"show\": False},\n",
    "    (date, \"1324\"): {\"show\": False},\n",
    "    (date, \"1338\"): {\"x0\": 480, \"show\": False},\n",
    "    (date, \"1353\"): {\"show\": False},\n",
    "    (date, \"1410\"): {\"show\": False},\n",
    "    (date, \"1426\"): {\"show\": False},\n",
    "    (date, \"1439\"): {\"show\": False},\n",
    "    (date, \"1458\"): {\"show\": False},\n",
    "    (date, \"1521\"): {\"show\": False},\n",
    "    (date, \"1548\"): {\"x0\": 465, \"show\": False},\n",
    "}\n",
    "process_timeseries(date, pi, parameters, default_R=200)"
   ]
  },
  {
   "cell_type": "markdown",
   "metadata": {},
   "source": [
    "## 2024-10-18\n"
   ]
  },
  {
   "cell_type": "code",
   "execution_count": null,
   "metadata": {},
   "outputs": [],
   "source": [
    "date = \"2024-10-18\"\n",
    "\n",
    "pi = \"PI3\"\n",
    "parameters = {\n",
    "    (date, \"1801\"): {\"x0\": 500, \"x_start\": 50, \"show\": False},\n",
    "    (date, \"1825\"): {\"x0\": 455, \"x_start\": 50, \"show\": False},\n",
    "    (date, \"1835\"): {\"show\": False},\n",
    "    (date, \"1847\"): {\"show\": False},\n",
    "    (date, \"1902\"): {\"show\": False},\n",
    "    (date, \"1913\"): {\"x0\": 490, \"show\": False},\n",
    "    (date, \"1925\"): {\"show\": False},\n",
    "}\n",
    "process_timeseries(date, pi, parameters, default_R=200)\n",
    "\n",
    "pi = \"PI4\"\n",
    "parameters = {\n",
    "    (date, \"1806\"): {\"show\": False},\n",
    "    (date, \"1828\"): {\"show\": False},\n",
    "    (date, \"1847\"): {\"x0\": 500, \"x_start\": 50, \"R\": 2000, \"show\": False},\n",
    "    (date, \"1907\"): {\"show\": False},\n",
    "    (date, \"1924\"): {\"show\": False},\n",
    "}\n",
    "process_timeseries(date, pi, parameters, default_R=1000)"
   ]
  },
  {
   "cell_type": "markdown",
   "metadata": {},
   "source": [
    "## 2024-10-22\n"
   ]
  },
  {
   "cell_type": "code",
   "execution_count": null,
   "metadata": {},
   "outputs": [],
   "source": [
    "date = \"2024-10-22\"\n",
    "\n",
    "pi = \"PI3\"\n",
    "parameters = {\n",
    "    (date, \"1807\"): {\"show\": False},\n",
    "    (date, \"1819\"): {\"show\": False},\n",
    "    (date, \"1834\"): {\"show\": False},\n",
    "    (date, \"1848\"): {\"show\": False},\n",
    "    (date, \"1901\"): {\"show\": False},\n",
    "    (date, \"1915\"): {\"show\": False},\n",
    "}\n",
    "process_timeseries(date, pi, parameters, default_R=200)\n",
    "\n",
    "pi = \"PI4\"\n",
    "parameters = {\n",
    "    (date, \"1745\"): {\"show\": False},\n",
    "    (date, \"1750\"): {\"R\": 2000, \"show\": False},\n",
    "    (date, \"1801\"): {\"R\": 2000, \"show\": False},\n",
    "    (date, \"1809\"): {\"show\": False},\n",
    "    (date, \"1822\"): {\"show\": False},\n",
    "    (date, \"1832\"): {\"show\": False},\n",
    "}\n",
    "process_timeseries(date, pi, parameters, default_R=1000)"
   ]
  },
  {
   "cell_type": "markdown",
   "metadata": {},
   "source": [
    "## 2024-10-24\n"
   ]
  },
  {
   "cell_type": "code",
   "execution_count": null,
   "metadata": {},
   "outputs": [],
   "source": [
    "date = \"2024-10-24\"\n",
    "\n",
    "pi = \"PI3\"\n",
    "parameters = {\n",
    "    (date, \"0859\"): {\"show\": False},\n",
    "    (date, \"0920\"): {\"show\": False},\n",
    "    (date, \"0940\"): {\"show\": False},\n",
    "    (date, \"0952\"): {\"show\": False},\n",
    "    (date, \"1011\"): {\"show\": False},\n",
    "    (date, \"1029\"): {\"show\": False},\n",
    "}\n",
    "process_timeseries(date, pi, parameters, default_R=200)\n",
    "\n",
    "pi = \"PI4\"\n",
    "parameters = {\n",
    "    (date, \"0836\"): {\"show\": False},\n",
    "    (date, \"0851\"): {\"show\": False},\n",
    "    (date, \"0901\"): {\"show\": False},\n",
    "    (date, \"0910\"): {\"show\": False},\n",
    "    (date, \"0921\"): {\"show\": False},\n",
    "    (date, \"0932\"): {\"show\": False},\n",
    "}\n",
    "process_timeseries(date, pi, parameters, default_R=1000)"
   ]
  },
  {
   "cell_type": "markdown",
   "metadata": {},
   "source": [
    "# Pi Calibration\n"
   ]
  },
  {
   "cell_type": "code",
   "execution_count": null,
   "metadata": {},
   "outputs": [],
   "source": [
    "import pandas as pd\n",
    "from scipy.stats import linregress\n",
    "import numpy as np\n",
    "from sklearn.linear_model import RANSACRegressor\n",
    "from sklearn.linear_model import LinearRegression\n",
    "from matplotlib.axes import Axes\n",
    "\n",
    "\n",
    "def get_calibration_axes(ax: Axes) -> Axes:\n",
    "    ax.set_xlabel(\"Mean CO2 concentration across devices (ppm)\")\n",
    "    ax.set_ylabel(\"Deviation between devices (ppm)\")\n",
    "    ax.set_xlim(460, 510)\n",
    "    ax.set_ylim(-65, 20)\n",
    "    return ax\n",
    "\n",
    "\n",
    "# Select data for 2024-09-26\n",
    "df = df[df[\"date\"] == \"2024-09-26\"]\n",
    "\n",
    "# Convert time to datetime for easier manipulation\n",
    "df[\"datetime\"] = pd.to_datetime(df[\"date\"] + \" \" + df[\"time\"], format=\"%Y-%m-%d %H%M\")\n",
    "\n",
    "# Separate data for PI3 and PI4\n",
    "df_pi3 = df[df[\"pi\"] == \"PI3\"]\n",
    "df_pi4 = df[df[\"pi\"] == \"PI4\"]\n",
    "\n",
    "# Merge the dataframes on date and time within 1 minute\n",
    "merged_df = pd.merge_asof(\n",
    "    df_pi3.sort_values(\"datetime\"),\n",
    "    df_pi4.sort_values(\"datetime\"),\n",
    "    on=\"datetime\",\n",
    "    direction=\"nearest\",\n",
    "    tolerance=pd.Timedelta(\"1 minute\"),\n",
    "    suffixes=(\"_pi3\", \"_pi4\"),\n",
    ")\n",
    "\n",
    "# Drop rows where there was no match within 1 minute\n",
    "merged_df.dropna(inplace=True)\n",
    "merged_df = merged_df.drop(0)\n",
    "\n",
    "mean_across_devices = (merged_df[\"co2_mean_pi3\"] + merged_df[\"co2_mean_pi4\"]) / 2\n",
    "deviation_between_devices = merged_df[\"co2_mean_pi3\"] - merged_df[\"co2_mean_pi4\"]\n",
    "xerr = (merged_df[\"co2_std_pi3\"] + merged_df[\"co2_std_pi4\"]) / 2\n",
    "yerr = merged_df[\"co2_std_pi3\"] + merged_df[\"co2_std_pi4\"]\n",
    "\n",
    "fig, ax = plt.subplots()\n",
    "\n",
    "ax.errorbar(\n",
    "    mean_across_devices,\n",
    "    deviation_between_devices,\n",
    "    xerr=xerr,\n",
    "    yerr=yerr,\n",
    "    fmt=\"o\",\n",
    "    label=\"Data\",\n",
    ")\n",
    "ax = get_calibration_axes(ax)\n",
    "export_fig(fig, PRESENTATION_MEDIA_DIR / \"pi_calibration_points.svg\")\n",
    "\n",
    "# Linear regression\n",
    "slope, intercept, r_value, p_value, std_err = linregress(\n",
    "    mean_across_devices,\n",
    "    deviation_between_devices,\n",
    ")\n",
    "\n",
    "x = np.linspace(460, 510, 100)\n",
    "ax.plot(\n",
    "    x,\n",
    "    slope * x + intercept,\n",
    "    color=\"k\",\n",
    "    label=\"Best fit\",\n",
    "    linestyle=\"--\",\n",
    ")\n",
    "ax.legend(loc=\"lower right\")\n",
    "export_fig(fig, PRESENTATION_MEDIA_DIR / \"pi_calibration_naive_fit.svg\")\n",
    "plt.show()\n",
    "\n",
    "# Prepare data for RANSAC\n",
    "X = mean_across_devices.values.reshape(-1, 1)\n",
    "y = deviation_between_devices.values\n",
    "\n",
    "# Apply RANSAC for robust linear regression\n",
    "ransac = RANSACRegressor(LinearRegression(), min_samples=5, residual_threshold=8)\n",
    "ransac.fit(X, y)\n",
    "inlier_mask = ransac.inlier_mask_\n",
    "outlier_mask = np.logical_not(inlier_mask)\n",
    "\n",
    "fig, ax = plt.subplots()\n",
    "ax.errorbar(\n",
    "    mean_across_devices[inlier_mask],\n",
    "    deviation_between_devices[inlier_mask],\n",
    "    xerr=xerr[inlier_mask],\n",
    "    yerr=yerr[inlier_mask],\n",
    "    fmt=\"o\",\n",
    "    label=\"Inliers\",\n",
    "    color=\"C2\",\n",
    ")\n",
    "ax.errorbar(\n",
    "    mean_across_devices[outlier_mask],\n",
    "    deviation_between_devices[outlier_mask],\n",
    "    xerr=xerr[outlier_mask],\n",
    "    yerr=yerr[outlier_mask],\n",
    "    fmt=\"o\",\n",
    "    label=\"Outliers\",\n",
    "    color=\"C1\",\n",
    ")\n",
    "ax = get_calibration_axes(ax)\n",
    "export_fig(fig, PRESENTATION_MEDIA_DIR / \"pi_calibration_inlier_outliers.svg\")\n",
    "\n",
    "# Plot the RANSAC regression line\n",
    "line_y_ransac = ransac.predict(x.reshape(-1, 1))\n",
    "ax.plot(x, line_y_ransac, color=\"k\", label=\"RANSAC regression line\", linestyle=\"--\")\n",
    "ax.legend()\n",
    "export_fig(fig, PRESENTATION_MEDIA_DIR / \"pi_calibration_ransac_fit.svg\")\n",
    "plt.show()\n",
    "\n",
    "slope = ransac.estimator_.coef_[0]\n",
    "intercept = ransac.estimator_.intercept_\n",
    "print(f\"Slope: {slope}, Intercept: {intercept}\")"
   ]
  },
  {
   "cell_type": "code",
   "execution_count": null,
   "metadata": {},
   "outputs": [],
   "source": [
    "from IPython.display import display, HTML\n",
    "\n",
    "selected_columns = [\n",
    "    \"date_pi3\",\n",
    "    \"time_pi3\",\n",
    "    \"co2_mean_pi3\",\n",
    "    \"co2_std_pi3\",\n",
    "    \"co2_mean_pi4\",\n",
    "    \"co2_std_pi4\",\n",
    "]\n",
    "display_df = merged_df[selected_columns].copy()\n",
    "display_df.rename(columns={\"date_pi3\": \"date\", \"time_pi3\": \"time\"}, inplace=True)\n",
    "\n",
    "html_str = display_df.to_html(index=False)\n",
    "display(HTML(html_str))"
   ]
  },
  {
   "cell_type": "code",
   "execution_count": null,
   "metadata": {},
   "outputs": [],
   "source": [
    "plt.errorbar(\n",
    "    merged_df[\"co2_mean_pi3\"],\n",
    "    convert_pi4_to_pi3_co2(merged_df[\"co2_mean_pi4\"]),\n",
    "    xerr=merged_df[\"co2_std_pi3\"],\n",
    "    yerr=merged_df[\"co2_std_pi4\"],\n",
    "    fmt=\"o\",\n",
    ")\n",
    "plt.plot(sorted(merged_df[\"co2_mean_pi3\"]), sorted(merged_df[\"co2_mean_pi3\"]))\n",
    "plt.gca().set_aspect(\"equal\", adjustable=\"box\")\n",
    "plt.xlim(400, 540)\n",
    "plt.ylim(400, 540)"
   ]
  },
  {
   "cell_type": "markdown",
   "metadata": {},
   "source": [
    "# Get All Data\n"
   ]
  },
  {
   "cell_type": "code",
   "execution_count": null,
   "metadata": {},
   "outputs": [],
   "source": [
    "df_corrected = get_corrected_data()\n",
    "boxplot = df_corrected.boxplot(column=\"co2_mean\", by=\"date\", grid=False)\n",
    "plt.ylabel(\"CO2 concentration (ppm)\")\n",
    "plt.title(\"\")\n",
    "plt.suptitle(\"\")\n",
    "export_fig(plt.gcf(), PRESENTATION_MEDIA_DIR / \"boxplot_mean_co2_by_date.svg\")"
   ]
  },
  {
   "cell_type": "code",
   "execution_count": null,
   "metadata": {},
   "outputs": [],
   "source": [
    "sns.violinplot(\n",
    "    data=df_corrected,\n",
    "    x=\"date\",\n",
    "    y=\"co2_mean\",\n",
    "    density_norm=\"count\",\n",
    "    palette=sns.color_palette(),\n",
    "    hue=\"date\",\n",
    "    legend=False,\n",
    ")\n",
    "sns.stripplot(data=df_corrected, x=\"date\", y=\"co2_mean\", color=\"black\", alpha=0.5)\n",
    "plt.ylabel(\"CO2 concentration (ppm)\")\n",
    "export_fig(plt.gcf(), PRESENTATION_MEDIA_DIR / \"violinplot_mean_co2_by_date.svg\")"
   ]
  },
  {
   "cell_type": "markdown",
   "metadata": {},
   "source": [
    "# Correlation Tests\n"
   ]
  },
  {
   "cell_type": "code",
   "execution_count": null,
   "metadata": {},
   "outputs": [],
   "source": [
    "from scipy.stats import kendalltau\n",
    "\n",
    "\n",
    "def check_correlation(variable_str: str, units: str, x_lim: tuple = None):\n",
    "    df_corrected = get_corrected_data()\n",
    "    # Check for correlation between co2 and pressure\n",
    "    fig, ax = plt.subplots()\n",
    "    variable = df_corrected[f\"{variable_str}_mean\"]\n",
    "    co2 = df_corrected[\"co2_mean\"]\n",
    "    ax.scatter(variable, co2)\n",
    "    ax.set_xlabel(f\"{variable_str.capitalize()} ({units})\")\n",
    "    ax.set_ylabel(\"CO2 concentration (ppm)\")\n",
    "    ax.set_xlim(x_lim)\n",
    "    export_fig(fig, PRESENTATION_MEDIA_DIR / f\"{variable_str}_vs_co2.svg\")\n",
    "\n",
    "    statistic, p_value = kendalltau(variable, co2)\n",
    "    print(f\"Kendall's tau: {statistic: .3f}, p-value: {p_value: .3f}\")"
   ]
  },
  {
   "cell_type": "code",
   "execution_count": null,
   "metadata": {},
   "outputs": [],
   "source": [
    "check_correlation(\"pressure\", \"mbar\", (1006, 1013))"
   ]
  },
  {
   "cell_type": "code",
   "execution_count": null,
   "metadata": {},
   "outputs": [],
   "source": [
    "check_correlation(\"temperature\", \"$\\\\degree C$\")"
   ]
  },
  {
   "cell_type": "code",
   "execution_count": null,
   "metadata": {},
   "outputs": [],
   "source": [
    "check_correlation(\"humidity\", \"%\")"
   ]
  },
  {
   "cell_type": "markdown",
   "metadata": {},
   "source": [
    "# For Presentation\n"
   ]
  },
  {
   "cell_type": "markdown",
   "metadata": {},
   "source": [
    "## Points and Lines\n"
   ]
  },
  {
   "cell_type": "code",
   "execution_count": null,
   "metadata": {},
   "outputs": [],
   "source": [
    "df = pd.read_csv(\n",
    "    Path(\"data/co2_readings/processed/2024-09-26/PI4/2024-09-26 14_39_46.146124.csv\")\n",
    ")\n",
    "t = df[\"Time\"]\n",
    "co2 = df[\"CO2\"]\n",
    "fig, ax = plt.subplots()\n",
    "ax.scatter(t, co2, s=1)\n",
    "ax = get_co2_axes(ax)\n",
    "export_fig(fig, PRESENTATION_MEDIA_DIR / \"co2_points.svg\")\n",
    "ax.plot(t, co2)\n",
    "export_fig(fig, PRESENTATION_MEDIA_DIR / \"co2_line.svg\")\n",
    "\n",
    "df = pd.read_csv(\n",
    "    Path(\"data/co2_readings/processed/2024-10-18/PI3/2024-10-18 18_35_31.804712.csv\")\n",
    ")\n",
    "t = df[\"Time\"]\n",
    "co2 = df[\"CO2\"]\n",
    "fig, ax = plot_co2([t], [co2], [{}], plot_legend=False)\n",
    "export_fig(fig, PRESENTATION_MEDIA_DIR / \"co2_raw_2.svg\")"
   ]
  },
  {
   "cell_type": "markdown",
   "metadata": {},
   "source": [
    "## Good and Bad Data\n"
   ]
  },
  {
   "cell_type": "code",
   "execution_count": null,
   "metadata": {},
   "outputs": [],
   "source": [
    "fig, ax = plt.subplots()\n",
    "\n",
    "df = pd.read_csv(\n",
    "    Path(\"data/co2_readings/processed/2024-09-26/PI4/2024-09-26 14_39_46.146124.csv\")\n",
    ")\n",
    "t = df[\"Time\"]\n",
    "co2 = df[\"CO2\"]\n",
    "ax.plot(t, co2, label=\"Bad\")\n",
    "\n",
    "df = pd.read_csv(\n",
    "    \"data/co2_readings/processed/2024-09-26/PI3/2024-09-26 14_58_06.432300.csv\"\n",
    ")\n",
    "t = df[\"Time\"]\n",
    "co2 = df[\"CO2\"]\n",
    "ax.plot(t, co2, label=\"Good\")\n",
    "ax.legend()\n",
    "ax.set_xlim((-11.181157338619231, 250.04458330869673))\n",
    "ax = get_co2_axes(ax)\n",
    "export_fig(fig, PRESENTATION_MEDIA_DIR / \"co2_good_bad.svg\")"
   ]
  },
  {
   "cell_type": "code",
   "execution_count": null,
   "metadata": {},
   "outputs": [],
   "source": [
    "df = pd.read_csv(\n",
    "    Path(\"data/co2_readings/processed/2024-09-26/PI4/2024-09-26 14_39_46.146124.csv\")\n",
    ")\n",
    "t = df[\"Time\"]\n",
    "co2 = df[\"CO2\"]\n",
    "\n",
    "co2_smoothed = ukf_rts_smooth(t, co2, x0=500)\n",
    "\n",
    "fig, ax = plot_co2(\n",
    "    [t, t], [co2, co2_smoothed], [{\"label\": \"Raw\"}, {\"label\": \"Smoothed\"}]\n",
    ")\n",
    "export_fig(fig, PRESENTATION_MEDIA_DIR / \"co2_smoothed_1.svg\")\n",
    "ax.get_xlim()"
   ]
  },
  {
   "cell_type": "code",
   "execution_count": null,
   "metadata": {},
   "outputs": [],
   "source": [
    "df = pd.read_csv(\n",
    "    Path(\"data/co2_readings/processed/2024-10-18/PI3/2024-10-18 18_35_31.804712.csv\")\n",
    ")\n",
    "t = df[\"Time\"]\n",
    "co2 = df[\"CO2\"]\n",
    "\n",
    "co2_smoothed = ukf_rts_smooth(t, co2, R=100)\n",
    "\n",
    "fig, ax = plot_co2(\n",
    "    [t, t], [co2, co2_smoothed], [{\"label\": \"Raw\"}, {\"label\": \"Smoothed\"}]\n",
    ")\n",
    "export_fig(fig, PRESENTATION_MEDIA_DIR / \"co2_smoothed_2.svg\")"
   ]
  }
 ],
 "metadata": {
  "kernelspec": {
   "display_name": "co2",
   "language": "python",
   "name": "python3"
  },
  "language_info": {
   "codemirror_mode": {
    "name": "ipython",
    "version": 3
   },
   "file_extension": ".py",
   "mimetype": "text/x-python",
   "name": "python",
   "nbconvert_exporter": "python",
   "pygments_lexer": "ipython3",
   "version": "3.12.5"
  }
 },
 "nbformat": 4,
 "nbformat_minor": 2
}
