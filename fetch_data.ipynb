{
 "cells": [
  {
   "cell_type": "code",
   "execution_count": 61,
   "metadata": {},
   "outputs": [],
   "source": [
    "%reload_ext autoreload\n",
    "%autoreload 2\n",
    "\n",
    "from gcloud_utils import (\n",
    "    PI3_BUCKET_NAME,\n",
    "    PI4_BUCKET_NAME,\n",
    "    get_all_data_files\n",
    ")\n",
    "from cv_helper.analyser import group_files_into_folder\n",
    "from pathlib import Path\n",
    "import pandas as pd\n",
    "import matplotlib.pyplot as plt"
   ]
  },
  {
   "cell_type": "markdown",
   "metadata": {},
   "source": [
    "# Fetch data"
   ]
  },
  {
   "cell_type": "code",
   "execution_count": 58,
   "metadata": {},
   "outputs": [],
   "source": [
    "# get_all_data_files(Path(\"data/raw/PI3\"), PI3_BUCKET_NAME)\n",
    "get_all_data_files(Path(\"data/raw/PI4\"), PI4_BUCKET_NAME)"
   ]
  },
  {
   "cell_type": "markdown",
   "metadata": {},
   "source": [
    "# Sort and arrange files"
   ]
  },
  {
   "cell_type": "code",
   "execution_count": 59,
   "metadata": {},
   "outputs": [],
   "source": [
    "root_dir = Path(\"data/raw/PI4\")\n",
    "get_folder_name_fn = lambda x: x.split(\" \")[0]\n",
    "group_files_into_folder(root_dir, root_dir.glob(\"*.csv\"), get_folder_name_fn)"
   ]
  },
  {
   "cell_type": "code",
   "execution_count": null,
   "metadata": {},
   "outputs": [],
   "source": [
    "for file_path in Path(r\"data\\processed\\2024-09-26\\PI4\").glob(\"*.csv\"):\n",
    "    df = pd.read_csv(file_path)\n",
    "    if df[\"CO2\"].std() < 50:\n",
    "        plt.plot(df[\"CO2\"])\n",
    "    plt.ylim(400, 600)\n",
    "    # plt.show()"
   ]
  },
  {
   "cell_type": "code",
   "execution_count": null,
   "metadata": {},
   "outputs": [],
   "source": [
    "for file_path in Path(r\"data\\processed\\2024-09-26\\PI3\").glob(\"*.csv\"):\n",
    "    df = pd.read_csv(file_path)\n",
    "    plt.plot(df[\"CO2\"])\n",
    "    plt.ylim(400, 600)\n",
    "    # plt.show()"
   ]
  },
  {
   "cell_type": "code",
   "execution_count": null,
   "metadata": {},
   "outputs": [],
   "source": []
  }
 ],
 "metadata": {
  "kernelspec": {
   "display_name": "co2",
   "language": "python",
   "name": "python3"
  },
  "language_info": {
   "codemirror_mode": {
    "name": "ipython",
    "version": 3
   },
   "file_extension": ".py",
   "mimetype": "text/x-python",
   "name": "python",
   "nbconvert_exporter": "python",
   "pygments_lexer": "ipython3",
   "version": "3.12.5"
  }
 },
 "nbformat": 4,
 "nbformat_minor": 2
}
