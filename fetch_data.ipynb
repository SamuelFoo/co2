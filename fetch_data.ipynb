{
 "cells": [
  {
   "cell_type": "code",
   "execution_count": 33,
   "metadata": {},
   "outputs": [],
   "source": [
    "%reload_ext autoreload\n",
    "%autoreload 2\n",
    "\n",
    "from gcloud_utils import (\n",
    "    get_data_file,\n",
    "    get_data_file_metadata,\n",
    "    fetch_gcs_object,\n",
    "    PI3_BUCKET_NAME,\n",
    "    PI3_BUCKET_NAME,\n",
    ")\n",
    "import numpy as np\n",
    "import re\n",
    "\n",
    "from pathlib import Path"
   ]
  },
  {
   "cell_type": "code",
   "execution_count": 39,
   "metadata": {},
   "outputs": [],
   "source": [
    "data_dir = Path(\"data/raw\")\n",
    "data_dir.mkdir(parents=True, exist_ok=True)\n",
    "\n",
    "pi3_metadata = get_data_file_metadata(PI3_BUCKET_NAME)\n",
    "file_urls = list(map(lambda x: x[\"mediaLink\"], pi3_metadata[\"items\"]))\n",
    "\n",
    "for file_url in file_urls:\n",
    "    response = fetch_gcs_object(file_urls[0])\n",
    "\n",
    "    pattern = r\"\\/([^\\/]+%20[^\\/]+\\.csv)\"\n",
    "    match = re.search(pattern, file_url)\n",
    "    file_name = match.group(1).replace(\":\", \"_\").replace(\"%20\", \" \")\n",
    "\n",
    "    with open(data_dir / file_name, \"w\") as f:\n",
    "        f.write(response.text.replace(\"\\n\", \"\"))"
   ]
  },
  {
   "cell_type": "code",
   "execution_count": null,
   "metadata": {},
   "outputs": [],
   "source": []
  },
  {
   "cell_type": "code",
   "execution_count": 25,
   "metadata": {},
   "outputs": [],
   "source": []
  },
  {
   "cell_type": "code",
   "execution_count": null,
   "metadata": {},
   "outputs": [],
   "source": [
    "response.text"
   ]
  }
 ],
 "metadata": {
  "kernelspec": {
   "display_name": "co2",
   "language": "python",
   "name": "python3"
  },
  "language_info": {
   "codemirror_mode": {
    "name": "ipython",
    "version": 3
   },
   "file_extension": ".py",
   "mimetype": "text/x-python",
   "name": "python",
   "nbconvert_exporter": "python",
   "pygments_lexer": "ipython3",
   "version": "3.12.5"
  }
 },
 "nbformat": 4,
 "nbformat_minor": 2
}
