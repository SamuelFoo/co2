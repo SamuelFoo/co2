{
 "cells": [
  {
   "cell_type": "code",
   "execution_count": 1,
   "metadata": {},
   "outputs": [],
   "source": [
    "%reload_ext autoreload\n",
    "%autoreload 2\n",
    "\n",
    "from geopandas import GeoDataFrame\n",
    "import geopandas as gpd\n",
    "from pathlib import Path\n",
    "import numpy as np\n",
    "import cv2\n",
    "import matplotlib.pyplot as plt"
   ]
  },
  {
   "cell_type": "markdown",
   "metadata": {},
   "source": [
    "# Fetch Data"
   ]
  },
  {
   "cell_type": "code",
   "execution_count": null,
   "metadata": {},
   "outputs": [],
   "source": []
  },
  {
   "cell_type": "markdown",
   "metadata": {},
   "source": [
    "# Distance Transform"
   ]
  },
  {
   "cell_type": "code",
   "execution_count": null,
   "metadata": {},
   "outputs": [],
   "source": [
    "file_path = Path(\"RoadSectionLine_Jul2024/RoadSectionLine.shp\")\n",
    "data: GeoDataFrame = gpd.read_file(file_path)\n",
    "data.plot()"
   ]
  },
  {
   "cell_type": "code",
   "execution_count": 3,
   "metadata": {},
   "outputs": [],
   "source": [
    "line_data = data.explode()\n",
    "line_data[\"coords\"] = line_data.geometry.apply(lambda geom: list(geom.coords))"
   ]
  },
  {
   "cell_type": "code",
   "execution_count": 22,
   "metadata": {},
   "outputs": [],
   "source": [
    "# Function to convert shapefile geometries to OpenCV contours\n",
    "def road_shapefile_to_opencv_mat(coords, img_width, img_height):\n",
    "    scale_x, scale_y = (\n",
    "        img_width / data.total_bounds[2],\n",
    "        img_height / data.total_bounds[3],\n",
    "    )\n",
    "    image = np.zeros((img_height, img_width), dtype=np.uint8)\n",
    "\n",
    "    for polyline in coords:\n",
    "        pts = np.array(polyline)\n",
    "        pts[:, 0] *= scale_x\n",
    "        pts[:, 1] *= scale_y\n",
    "        image = cv2.polylines(\n",
    "            image, np.int32([pts]), isClosed=False, color=255, thickness=1\n",
    "        )\n",
    "\n",
    "    return image\n",
    "\n",
    "\n",
    "image = road_shapefile_to_opencv_mat(\n",
    "    line_data[\"coords\"], img_width=3200, img_height=3200\n",
    ")"
   ]
  },
  {
   "cell_type": "code",
   "execution_count": null,
   "metadata": {},
   "outputs": [],
   "source": [
    "cv2.imwrite(\"test.png\", image)"
   ]
  },
  {
   "cell_type": "code",
   "execution_count": 23,
   "metadata": {},
   "outputs": [],
   "source": [
    "dist = cv2.distanceTransform(cv2.bitwise_not(image), cv2.DIST_L2, 0)"
   ]
  },
  {
   "cell_type": "code",
   "execution_count": null,
   "metadata": {},
   "outputs": [],
   "source": [
    "np.unique(dist)\n",
    "plt.imshow(dist[2030:2200, 1255:1375], origin=\"lower\")\n",
    "plt.colorbar()"
   ]
  },
  {
   "cell_type": "code",
   "execution_count": null,
   "metadata": {},
   "outputs": [],
   "source": [
    "ret, thresh = cv2.threshold(image, 127, 255, cv2.THRESH_BINARY)\n",
    "\n",
    "np.unique(thresh)"
   ]
  },
  {
   "cell_type": "code",
   "execution_count": null,
   "metadata": {},
   "outputs": [],
   "source": [
    "image.shape"
   ]
  }
 ],
 "metadata": {
  "kernelspec": {
   "display_name": "co2",
   "language": "python",
   "name": "python3"
  },
  "language_info": {
   "codemirror_mode": {
    "name": "ipython",
    "version": 3
   },
   "file_extension": ".py",
   "mimetype": "text/x-python",
   "name": "python",
   "nbconvert_exporter": "python",
   "pygments_lexer": "ipython3",
   "version": "3.12.5"
  }
 },
 "nbformat": 4,
 "nbformat_minor": 2
}
