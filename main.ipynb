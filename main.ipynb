{
 "cells": [
  {
   "cell_type": "markdown",
   "metadata": {},
   "source": [
    "# Setup\n"
   ]
  },
  {
   "cell_type": "code",
   "execution_count": null,
   "metadata": {},
   "outputs": [],
   "source": [
    "%reload_ext autoreload\n",
    "%autoreload 2\n",
    "\n",
    "from pathlib import Path\n",
    "\n",
    "import contextily as cx\n",
    "import cv2\n",
    "import geopandas as gpd\n",
    "import matplotlib.pyplot as plt\n",
    "import pandas as pd\n",
    "import rasterio\n",
    "from geopandas import GeoDataFrame\n",
    "from shapely.geometry import Point, box\n",
    "\n",
    "from analyser import distance_transform_scipy, road_shapefile_to_opencv_mat\n",
    "from plotting import (\n",
    "    COMP_DOMAIN,\n",
    "    VIS_DOMAIN,\n",
    "    add_vis_base_map,\n",
    "    crop_gdf_by_vis_domain,\n",
    "    export_fig,\n",
    "    get_map_axes,\n",
    "    get_traffic_count_axes,\n",
    "    get_vis_base_plot,\n",
    "    plot_route,\n",
    "    plot_with_scale,\n",
    "    plot_contour_with_map\n",
    ")\n",
    "from project import PRESENTATION_MEDIA_DIR\n",
    "from spatial import (\n",
    "    get_traffic_data_by_site_id,\n",
    "    get_traffic_data_from_df,\n",
    "    get_traffic_df_from_gdf,\n",
    "    interpolate_traffic_data,\n",
    "    get_traffic_count_score,\n",
    "    get_traffic_counts_by_time\n",
    ")\n",
    "from timeseries import get_corrected_co2_lat_long"
   ]
  },
  {
   "cell_type": "markdown",
   "metadata": {},
   "source": [
    "# Process Locations\n"
   ]
  },
  {
   "cell_type": "code",
   "execution_count": null,
   "metadata": {},
   "outputs": [],
   "source": [
    "dir_path = Path(\"data/locations\")\n",
    "locations_file_path = dir_path / \"locations.csv\"\n",
    "df = pd.read_csv(locations_file_path)\n",
    "\n",
    "df[\"geometry\"] = df.apply(lambda row: Point(row[\"Longitude\"], row[\"Latitude\"]), axis=1)\n",
    "gdf = gpd.GeoDataFrame(df, geometry=\"geometry\", crs=\"EPSG:4326\")  # Setting CRS to WGS84\n",
    "gdf.to_file(dir_path / \"locations.shp\")\n",
    "\n",
    "gdf.plot()\n",
    "\n",
    "offset = 0.02\n",
    "offset_x = offset * (gdf.Longitude.max() - gdf.Longitude.min())\n",
    "offset_y = offset * (gdf.Latitude.max() - gdf.Latitude.min())\n",
    "\n",
    "for x, y, label in zip(\n",
    "    gdf.geometry.centroid.x, gdf.geometry.centroid.y, gdf[\"Location\"]\n",
    "):\n",
    "    plt.gca().text(x + offset_x, y + offset_y, label, fontsize=8, ha=\"center\")"
   ]
  },
  {
   "cell_type": "markdown",
   "metadata": {},
   "source": [
    "# Parameters\n"
   ]
  },
  {
   "cell_type": "markdown",
   "metadata": {},
   "source": [
    "## Basemap\n"
   ]
  },
  {
   "cell_type": "code",
   "execution_count": null,
   "metadata": {},
   "outputs": [],
   "source": [
    "proj_name = \"RoadSectionLine\"\n",
    "proj_path = Path(\"gis/RoadSectionLine_Jul2024\")\n",
    "shp_file_path = proj_path / f\"{proj_name}.shp\"\n",
    "\n",
    "gdf: GeoDataFrame = gpd.read_file(shp_file_path)\n",
    "ax = gdf.plot()\n",
    "plt.show()\n",
    "x_lim = ax.get_xlim()\n",
    "y_lim = ax.get_ylim()\n",
    "\n",
    "fig, ax = plt.subplots()\n",
    "ax.set_xlim(x_lim)\n",
    "ax.set_ylim(y_lim)\n",
    "ax = get_map_axes(ax)\n",
    "cx.add_basemap(ax, crs=gdf.crs.to_string(), source=cx.providers.OpenStreetMap.Mapnik)\n",
    "export_fig(fig, PRESENTATION_MEDIA_DIR / \"base_map.svg\")\n",
    "\n",
    "bbox = box(\n",
    "    COMP_DOMAIN.min_lon, COMP_DOMAIN.min_lat, COMP_DOMAIN.max_lon, COMP_DOMAIN.max_lat\n",
    ")\n",
    "bbox_gdf = gpd.GeoDataFrame([[1]], geometry=[bbox], crs=\"EPSG:4326\")\n",
    "bbox_gdf.to_crs(gdf.crs).plot(ax=ax, fc=\"none\", edgecolor=\"black\")\n",
    "\n",
    "cx.add_basemap(ax, crs=gdf.crs.to_string(), source=cx.providers.OpenStreetMap.Mapnik)\n",
    "export_fig(fig, PRESENTATION_MEDIA_DIR / \"base_map_with_bbox.svg\")"
   ]
  },
  {
   "cell_type": "markdown",
   "metadata": {},
   "source": [
    "## Computation Domain\n"
   ]
  },
  {
   "cell_type": "code",
   "execution_count": null,
   "metadata": {},
   "outputs": [],
   "source": [
    "gdf: GeoDataFrame = gpd.read_file(\n",
    "    Path(\"gis/RoadSectionLine_Jul2024/RoadSectionLine.shp\")\n",
    ")\n",
    "transformed_gdf = gdf.to_crs(crs=\"EPSG:4326\")\n",
    "points_gdf: GeoDataFrame = gpd.read_file(Path(\"data/locations/locations.shp\"))\n",
    "\n",
    "bbox = box(\n",
    "    COMP_DOMAIN.min_lon, COMP_DOMAIN.min_lat, COMP_DOMAIN.max_lon, COMP_DOMAIN.max_lat\n",
    ")\n",
    "bbox_gdf = gpd.GeoDataFrame([[1]], geometry=[bbox], crs=\"EPSG:4326\")\n",
    "cropped_gdf = gpd.overlay(transformed_gdf, bbox_gdf, keep_geom_type=True)\n",
    "\n",
    "fig, ax = plt.subplots()\n",
    "ax = plot_with_scale(ax, [cropped_gdf], [{\"zorder\": -1}])\n",
    "export_fig(fig, PRESENTATION_MEDIA_DIR / \"compute_domain.svg\")\n",
    "\n",
    "fig, ax = plt.subplots()\n",
    "ax = plot_with_scale(\n",
    "    ax, [points_gdf, cropped_gdf], [{\"color\": \"red\", \"zorder\": 3}, {\"zorder\": -1}]\n",
    ")\n",
    "export_fig(fig, PRESENTATION_MEDIA_DIR / \"points.svg\")"
   ]
  },
  {
   "cell_type": "code",
   "execution_count": null,
   "metadata": {},
   "outputs": [],
   "source": [
    "fig, ax = get_vis_base_plot()\n",
    "export_fig(fig, PRESENTATION_MEDIA_DIR / \"vis_domain.svg\")"
   ]
  },
  {
   "cell_type": "code",
   "execution_count": null,
   "metadata": {},
   "outputs": [],
   "source": [
    "fig, ax = get_vis_base_plot()\n",
    "ax = plot_route(points_gdf, ax, label=\"Both Pis\", color=\"C2\")\n",
    "ax.legend()\n",
    "export_fig(fig, PRESENTATION_MEDIA_DIR / \"2024-09-26_route.svg\")"
   ]
  },
  {
   "cell_type": "code",
   "execution_count": null,
   "metadata": {},
   "outputs": [],
   "source": [
    "def plot_two_pi_routes(day: str):\n",
    "    df = pd.read_csv(Path(f\"data/routes/{day}/route.csv\"))\n",
    "    fig, ax = get_vis_base_plot()\n",
    "    route_1 = points_gdf.iloc[df[\"Location\"][df[\"Pi\"] == 3] - 1]\n",
    "    ax = plot_route(route_1, ax, color=\"C0\", label=\"Pi 3\")\n",
    "    route_2 = points_gdf.iloc[df[\"Location\"][df[\"Pi\"] == 4] - 1]\n",
    "    ax = plot_route(route_2, ax, color=\"C1\", label=\"Pi 4\")\n",
    "    ax.legend()\n",
    "    return fig, ax"
   ]
  },
  {
   "cell_type": "code",
   "execution_count": null,
   "metadata": {},
   "outputs": [],
   "source": [
    "day = \"2024-10-18\"\n",
    "fig, ax = plot_two_pi_routes(day)\n",
    "export_fig(fig, PRESENTATION_MEDIA_DIR / f\"{day}_route.svg\")"
   ]
  },
  {
   "cell_type": "code",
   "execution_count": null,
   "metadata": {},
   "outputs": [],
   "source": [
    "day = \"2024-10-22\"\n",
    "fig, ax = plot_two_pi_routes(day)\n",
    "export_fig(fig, PRESENTATION_MEDIA_DIR / f\"{day}_route.svg\")"
   ]
  },
  {
   "cell_type": "code",
   "execution_count": null,
   "metadata": {},
   "outputs": [],
   "source": [
    "day = \"2024-10-24\"\n",
    "fig, ax = plot_two_pi_routes(day)\n",
    "export_fig(fig, PRESENTATION_MEDIA_DIR / f\"{day}_route.svg\")"
   ]
  },
  {
   "cell_type": "markdown",
   "metadata": {},
   "source": [
    "## Traffic Count Data\n"
   ]
  },
  {
   "cell_type": "markdown",
   "metadata": {},
   "source": [
    "### Visualize Points\n"
   ]
  },
  {
   "cell_type": "code",
   "execution_count": null,
   "metadata": {},
   "outputs": [],
   "source": [
    "gdf: GeoDataFrame = gpd.read_file(\n",
    "    Path(\"gis/Traffic_Count_Data/Traffic_Count_Data.gdb\"), layer=\"Traffic_Count_Data\"\n",
    ")\n",
    "transformed_gdf = gdf.to_crs(crs=\"EPSG:4326\")\n",
    "# gdf.plot()\n",
    "\n",
    "bbox = box(\n",
    "    COMP_DOMAIN.min_lon, COMP_DOMAIN.min_lat, COMP_DOMAIN.max_lon, COMP_DOMAIN.max_lat\n",
    ")\n",
    "bbox_gdf = gpd.GeoDataFrame([[1]], geometry=[bbox], crs=\"EPSG:4326\")\n",
    "cropped_gdf = gpd.overlay(transformed_gdf, bbox_gdf, keep_geom_type=True)\n",
    "cropped_gdf = cropped_gdf.drop(\n",
    "    cropped_gdf[cropped_gdf[\"SiteID\"] == \"J524\"].index\n",
    ")  # No data for this site\n",
    "\n",
    "point_gdf_1 = cropped_gdf.copy()\n",
    "point_gdf_1 = point_gdf_1[point_gdf_1[\"SiteID\"].isin([\"NS9\"])]\n",
    "\n",
    "point_gdf_2 = cropped_gdf.copy()\n",
    "point_gdf_2 = point_gdf_2[point_gdf_2[\"SiteID\"].isin([\"J970\"])]\n",
    "\n",
    "point_gdf_3 = cropped_gdf.copy()\n",
    "point_gdf_3 = point_gdf_3[point_gdf_3[\"SiteID\"].isin([\"116\"])]\n",
    "\n",
    "fig, ax = plt.subplots()\n",
    "ax = plot_with_scale(\n",
    "    ax,\n",
    "    [cropped_gdf, point_gdf_1, point_gdf_2, point_gdf_3],\n",
    "    [\n",
    "        {\"color\": \"k\", \"zorder\": 3, \"markersize\": 20},\n",
    "        {\"color\": \"C0\", \"zorder\": 4, \"markersize\": 40},\n",
    "        {\"color\": \"C1\", \"zorder\": 4, \"markersize\": 40},\n",
    "        {\"color\": \"C2\", \"zorder\": 4, \"markersize\": 40},\n",
    "    ],\n",
    ")\n",
    "# ax = plot(cropped_gdf, ax, label=\"Both Pis\", color=\"C2\")\n",
    "export_fig(fig, PRESENTATION_MEDIA_DIR / \"traffic_data.svg\")"
   ]
  },
  {
   "cell_type": "markdown",
   "metadata": {},
   "source": [
    "### Check Parsing of Data\n"
   ]
  },
  {
   "cell_type": "code",
   "execution_count": null,
   "metadata": {},
   "outputs": [],
   "source": [
    "traffic_gdf: GeoDataFrame = gpd.read_file(\n",
    "    Path(\"gis/Traffic_Count_Data/Traffic_Count_Data.gdb\"),\n",
    "    layer=\"Traffic_Count_Data__ATTACH\",\n",
    ")\n",
    "\n",
    "site_id = \"125\"\n",
    "\n",
    "for site_id in cropped_gdf[\"SiteID\"]:\n",
    "    df = get_traffic_df_from_gdf(traffic_gdf, site_id)\n",
    "    time, traffic = get_traffic_data_from_df(df)"
   ]
  },
  {
   "cell_type": "markdown",
   "metadata": {},
   "source": [
    "### Plot data\n"
   ]
  },
  {
   "cell_type": "code",
   "execution_count": null,
   "metadata": {},
   "outputs": [],
   "source": [
    "fig, ax = plt.subplots()\n",
    "\n",
    "site_id = \"NS9\"\n",
    "time, traffic = get_traffic_data_by_site_id(traffic_gdf, site_id)\n",
    "ax.plot(time, traffic)\n",
    "\n",
    "site_id = \"J970\"\n",
    "time, traffic = get_traffic_data_by_site_id(traffic_gdf, site_id)\n",
    "ax.plot(time, traffic)\n",
    "\n",
    "site_id = \"116\"\n",
    "time, traffic = get_traffic_data_by_site_id(traffic_gdf, site_id)\n",
    "ax.plot(time, traffic)\n",
    "\n",
    "ax = get_traffic_count_axes(ax)\n",
    "export_fig(plt.gcf(), PRESENTATION_MEDIA_DIR / \"traffic_data_plot.svg\")"
   ]
  },
  {
   "cell_type": "markdown",
   "metadata": {},
   "source": [
    "### Interpolate Missing Time Points\n"
   ]
  },
  {
   "cell_type": "code",
   "execution_count": null,
   "metadata": {},
   "outputs": [],
   "source": [
    "site_id = \"J970\"\n",
    "time, traffic = get_traffic_data_by_site_id(traffic_gdf, site_id)\n",
    "\n",
    "fig, ax = plt.subplots()\n",
    "ax = get_traffic_count_axes(ax)\n",
    "ax.plot(time, traffic, color=\"C1\")\n",
    "export_fig(fig, PRESENTATION_MEDIA_DIR / \"before_interpolation_plot.svg\")\n",
    "plt.show()\n",
    "\n",
    "fig, ax = plt.subplots()\n",
    "ax = get_traffic_count_axes(ax)\n",
    "ax.scatter(time, traffic, color=\"C1\", s=10)\n",
    "export_fig(fig, PRESENTATION_MEDIA_DIR / \"before_interpolation_points.svg\")\n",
    "\n",
    "df = interpolate_traffic_data(time, traffic)\n",
    "ax.plot(df.index, df[\"traffic\"], linestyle=\"--\", color=\"C1\")\n",
    "ax = get_traffic_count_axes(ax)\n",
    "export_fig(fig, PRESENTATION_MEDIA_DIR / \"interpolated.svg\")\n",
    "plt.show()"
   ]
  },
  {
   "cell_type": "code",
   "execution_count": null,
   "metadata": {},
   "outputs": [],
   "source": [
    "data_dict: dict[str, pd.Series] = {}\n",
    "\n",
    "for site_id in cropped_gdf[\"SiteID\"]:\n",
    "    df = get_traffic_df_from_gdf(traffic_gdf, site_id)\n",
    "    time, traffic = get_traffic_data_from_df(df)\n",
    "    interpolated_df = interpolate_traffic_data(time, traffic)\n",
    "    data_dict[site_id] = interpolated_df"
   ]
  },
  {
   "cell_type": "markdown",
   "metadata": {},
   "source": [
    "### Plot Heat Map\n"
   ]
  },
  {
   "cell_type": "code",
   "execution_count": null,
   "metadata": {},
   "outputs": [],
   "source": [
    "# Add a new column to traffic_gdf with interpolated traffic data\n",
    "cropped_gdf[\"interpolated_traffic\"] = cropped_gdf[\"SiteID\"].apply(\n",
    "    lambda site_id: data_dict.get(site_id, pd.DataFrame())\n",
    "    .get(\"traffic\", pd.Series())\n",
    "    .mean()\n",
    ")\n",
    "\n",
    "# Plot the heatmap spatially\n",
    "from matplotlib.colors import Normalize\n",
    "\n",
    "norm = Normalize(vmin=0, vmax=5000)\n",
    "\n",
    "fig, ax = plt.subplots(1, 1, figsize=(10, 10))\n",
    "cropped_gdf_plot_kwargs = {\n",
    "    \"zorder\": 3,\n",
    "    \"column\": \"interpolated_traffic\",\n",
    "    \"cmap\": \"hot\",\n",
    "    \"markersize\": 50,\n",
    "    \"norm\": norm,\n",
    "}\n",
    "\n",
    "ax = plot_with_scale(ax, [cropped_gdf], [cropped_gdf_plot_kwargs])\n",
    "# Format colorbar\n",
    "cbar = plt.colorbar(ax.get_children()[0], ax=ax, shrink=0.8)\n",
    "export_fig(fig, PRESENTATION_MEDIA_DIR / \"traffic_heatmap_points.svg\")\n",
    "\n",
    "ax.set_xlim(VIS_DOMAIN.x_bounds_32619)\n",
    "ax.set_ylim(VIS_DOMAIN.y_bounds_32619)\n",
    "add_vis_base_map(ax)\n",
    "export_fig(fig, PRESENTATION_MEDIA_DIR / \"traffic_heatmap_points_vis.svg\")"
   ]
  },
  {
   "cell_type": "code",
   "execution_count": null,
   "metadata": {},
   "outputs": [],
   "source": [
    "fig, ax = plot_contour_with_map(cropped_gdf, \"interpolated_traffic\")\n",
    "export_fig(fig, PRESENTATION_MEDIA_DIR / \"traffic_heatmap_interpolation_linear.svg\")\n",
    "plt.show()\n",
    "\n",
    "fig, ax = plot_contour_with_map(\n",
    "    cropped_gdf,\n",
    "    \"interpolated_traffic\",\n",
    "    interpolation_method=\"cubic\",\n",
    "    map_true_range=True,\n",
    ")\n",
    "export_fig(fig, PRESENTATION_MEDIA_DIR / \"traffic_heatmap_interpolation_cubic.svg\")\n",
    "plt.show()"
   ]
  },
  {
   "cell_type": "code",
   "execution_count": null,
   "metadata": {},
   "outputs": [],
   "source": [
    "transformed_gdf = cropped_gdf.to_crs(\"EPSG:32619\")\n",
    "gdf_plot_kwargs = {\n",
    "    \"zorder\": 3,\n",
    "    \"column\": \"interpolated_traffic\",\n",
    "    \"cmap\": \"hot\",\n",
    "    \"markersize\": 50,\n",
    "}\n",
    "\n",
    "\n",
    "def plot_power_law(n: float):\n",
    "    fig, ax = plt.subplots(figsize=(10, 10))\n",
    "    ax = plot_with_scale(ax, [transformed_gdf], [gdf_plot_kwargs])\n",
    "    xi, yi, traffic_score = get_traffic_count_score(\n",
    "        \"0800\", transformed_gdf, data_dict, n=n\n",
    "    )\n",
    "    contour = ax.contourf(\n",
    "        xi,\n",
    "        yi,\n",
    "        traffic_score.reshape(100, 100),\n",
    "        levels=14,\n",
    "        cmap=\"hot\",\n",
    "        zorder=4,\n",
    "        alpha=0.5,\n",
    "    )\n",
    "    fig.colorbar(contour, ax=ax, shrink=0.8)\n",
    "    export_fig(fig, PRESENTATION_MEDIA_DIR / f\"traffic_heatmap_score_n={n}.svg\")\n",
    "    plt.show()"
   ]
  },
  {
   "cell_type": "code",
   "execution_count": null,
   "metadata": {},
   "outputs": [],
   "source": [
    "plot_power_law(1.0)\n",
    "plot_power_law(1.5)\n",
    "plot_power_law(2.0)"
   ]
  },
  {
   "cell_type": "code",
   "execution_count": null,
   "metadata": {},
   "outputs": [],
   "source": [
    "time = \"1000\"\n",
    "timestamp = pd.to_datetime(time, format=\"%H%M\")\n",
    "\n",
    "# Add a new column to traffic_gdf with interpolated traffic data\n",
    "cropped_gdf[\"interpolated_traffic\"] = cropped_gdf[\"SiteID\"].apply(\n",
    "    lambda site_id: data_dict.get(site_id, pd.DataFrame())\n",
    "    .get(\"traffic\", pd.Series())\n",
    "    .get(timestamp, 0)\n",
    ")\n",
    "cropped_gdf[\"interpolated_traffic\"]"
   ]
  },
  {
   "cell_type": "code",
   "execution_count": null,
   "metadata": {},
   "outputs": [],
   "source": [
    "import numpy as np\n",
    "\n",
    "time_lin = pd.date_range(\"1900-01-01 06:00\", \"1900-01-01 20:45\", freq=\"15min\").time\n",
    "# Format as HHMM\n",
    "hhmms = [time.strftime(\"%H%M\") for time in time_lin]\n",
    "\n",
    "traffic_scores = []\n",
    "for hhmm in hhmms:\n",
    "    _, _, traffic_score = get_traffic_count_score(hhmm, transformed_gdf, data_dict)\n",
    "    traffic_scores.append(traffic_score)\n",
    "\n",
    "traffic_scores = np.array(traffic_scores)\n",
    "idx_with_largest_range = traffic_scores.max(axis=1).argmax()\n",
    "traffic_scores.max()"
   ]
  },
  {
   "cell_type": "code",
   "execution_count": null,
   "metadata": {},
   "outputs": [],
   "source": [
    "import matplotlib.animation as animation\n",
    "\n",
    "fig, ax = plt.subplots()\n",
    "fig.subplots_adjust(left=0, bottom=0, right=1, top=1, wspace=None, hspace=None)\n",
    "slide_bg = np.array([255 / 255, 242 / 255, 204 / 255, 1])\n",
    "fig.patch.set_facecolor(slide_bg)\n",
    "\n",
    "contour_norm = Normalize(vmin=0, vmax=150)\n",
    "points_norm = Normalize(vmin=0, vmax=5000)\n",
    "gdf_plot_kwargs = {\n",
    "    \"zorder\": 3,\n",
    "    \"column\": \"interpolated_traffic\",\n",
    "    \"cmap\": \"hot\",\n",
    "    \"markersize\": 50,\n",
    "    \"norm\": points_norm,\n",
    "}\n",
    "# Plot for the item with the largest range first\n",
    "transformed_gdf = get_traffic_counts_by_time(\n",
    "    hhmms[idx_with_largest_range], transformed_gdf, data_dict\n",
    ")\n",
    "ax = plot_with_scale(ax, [transformed_gdf], [gdf_plot_kwargs])\n",
    "xi, yi, traffic_score = get_traffic_count_score(\n",
    "    hhmms[idx_with_largest_range], transformed_gdf, data_dict\n",
    ")\n",
    "contour = ax.contourf(\n",
    "    xi,\n",
    "    yi,\n",
    "    traffic_score.reshape(100, 100),\n",
    "    levels=14,\n",
    "    cmap=\"hot\",\n",
    "    zorder=4,\n",
    "    alpha=0.5,\n",
    "    norm=contour_norm,\n",
    ")\n",
    "fig.colorbar(contour, ax=ax, shrink=0.8)\n",
    "\n",
    "# Add text at top right corner indicating the time\n",
    "time_text = plt.text(\n",
    "    0.99,\n",
    "    0.99,\n",
    "    hhmms[idx_with_largest_range],\n",
    "    horizontalalignment=\"right\",\n",
    "    verticalalignment=\"top\",\n",
    "    transform=ax.transAxes,\n",
    "    fontsize=14,\n",
    "    color=\"black\",\n",
    "    zorder=5,\n",
    ")\n",
    "time_text.set_bbox(dict(facecolor=\"white\", edgecolor=\"none\"))\n",
    "\n",
    "\n",
    "# Function to update the heatmap\n",
    "def update(frame):\n",
    "    global transformed_gdf\n",
    "    ax.clear()\n",
    "\n",
    "    transformed_gdf = get_traffic_counts_by_time(\n",
    "        hhmms[frame], transformed_gdf, data_dict\n",
    "    )\n",
    "    plot_with_scale(ax, [transformed_gdf], [gdf_plot_kwargs])\n",
    "    xi, yi, traffic_score = get_traffic_count_score(\n",
    "        hhmms[frame], transformed_gdf, data_dict\n",
    "    )\n",
    "\n",
    "    contour = ax.contourf(\n",
    "        xi,\n",
    "        yi,\n",
    "        traffic_score.reshape(100, 100),\n",
    "        levels=14,\n",
    "        cmap=\"hot\",\n",
    "        zorder=4,\n",
    "        alpha=0.5,\n",
    "        norm=contour_norm,\n",
    "    )\n",
    "\n",
    "    time_text = plt.text(\n",
    "        0.99,\n",
    "        0.99,\n",
    "        hhmms[frame],\n",
    "        horizontalalignment=\"right\",\n",
    "        verticalalignment=\"top\",\n",
    "        transform=ax.transAxes,\n",
    "        fontsize=14,\n",
    "        color=\"black\",\n",
    "        zorder=5,\n",
    "    )\n",
    "    time_text.set_bbox(dict(facecolor=\"white\", edgecolor=\"none\"))\n",
    "\n",
    "    return [contour, time_text]\n",
    "\n",
    "\n",
    "# Create the animation\n",
    "ani = animation.FuncAnimation(fig, update, frames=len(traffic), blit=True, repeat=False)\n",
    "\n",
    "# Save the animation\n",
    "# ani.save(\n",
    "#     PRESENTATION_MEDIA_DIR / \"traffic_heatmap_animation.gif\",\n",
    "#     writer=\"pillow\",\n",
    "#     savefig_kwargs={\"pad_inches\": None},\n",
    "# )\n",
    "\n",
    "# Write to mp4 format\n",
    "ani.save(\n",
    "    PRESENTATION_MEDIA_DIR / \"traffic_heatmap_animation.mp4\",\n",
    "    writer=\"ffmpeg\",\n",
    "    savefig_kwargs={\"pad_inches\": None},\n",
    ")\n",
    "plt.show()"
   ]
  },
  {
   "cell_type": "code",
   "execution_count": null,
   "metadata": {},
   "outputs": [],
   "source": [
    "# Add text at top right corner indicating the time\n",
    "time_text = ax.text(\n",
    "    0.95 * xi.max(),\n",
    "    0.95 * yi.max(),\n",
    "    hhmms[idx_with_largest_range],\n",
    "    horizontalalignment=\"right\",\n",
    "    verticalalignment=\"top\",\n",
    "    # transform=ax.transAxes,\n",
    "    fontsize=0.95 * xi.max(),\n",
    "    color=\"black\",\n",
    "    zorder=5,\n",
    ")\n",
    "ax.add_artist(time_text)"
   ]
  },
  {
   "cell_type": "markdown",
   "metadata": {},
   "source": [
    "### Compare with measurements\n"
   ]
  },
  {
   "cell_type": "code",
   "execution_count": null,
   "metadata": {},
   "outputs": [],
   "source": [
    "co2_df = get_corrected_co2_lat_long()\n",
    "# co2_means = co2_df[\"co2_mean\"]\n",
    "# co2_stds = co2_df[\"co2_std\"]\n",
    "# dates = co2_df[\"date\"]\n",
    "# times = co2_df[\"time\"]\n",
    "co2_df"
   ]
  },
  {
   "cell_type": "markdown",
   "metadata": {},
   "source": [
    "## Distance Transform\n"
   ]
  },
  {
   "cell_type": "code",
   "execution_count": null,
   "metadata": {},
   "outputs": [],
   "source": [
    "road_image = road_shapefile_to_opencv_mat(geo_data=cropped_gdf, img_width=3200)\n",
    "dist = cv2.distanceTransform(cv2.bitwise_not(road_image), cv2.DIST_L2, 0)\n",
    "\n",
    "fig, ax = plt.subplots()\n",
    "ax.imshow(dist[:, :], origin=\"lower\")\n",
    "ax = get_map_axes(ax)"
   ]
  },
  {
   "cell_type": "code",
   "execution_count": null,
   "metadata": {},
   "outputs": [],
   "source": [
    "transform, distance_transform = distance_transform_scipy(\n",
    "    gdf=cropped_gdf, resolution=1e-5\n",
    ")\n",
    "\n",
    "processed_dir = proj_path / \"processed\"\n",
    "processed_dir.mkdir(exist_ok=True)\n",
    "\n",
    "with rasterio.open(\n",
    "    proj_path / \"processed\" / \"distance_transform.tif\",\n",
    "    \"w\",\n",
    "    driver=\"GTiff\",\n",
    "    height=distance_transform.shape[0],\n",
    "    width=distance_transform.shape[1],\n",
    "    count=1,\n",
    "    dtype=distance_transform.dtype,\n",
    "    crs=cropped_gdf.crs,\n",
    "    transform=transform,\n",
    ") as dst:\n",
    "    dst.write(distance_transform, 1)\n",
    "\n",
    "plt.imshow(distance_transform)\n",
    "plt.colorbar()\n",
    "plt.show()"
   ]
  },
  {
   "cell_type": "code",
   "execution_count": null,
   "metadata": {},
   "outputs": [],
   "source": []
  }
 ],
 "metadata": {
  "kernelspec": {
   "display_name": "co2",
   "language": "python",
   "name": "python3"
  },
  "language_info": {
   "codemirror_mode": {
    "name": "ipython",
    "version": 3
   },
   "file_extension": ".py",
   "mimetype": "text/x-python",
   "name": "python",
   "nbconvert_exporter": "python",
   "pygments_lexer": "ipython3",
   "version": "3.12.5"
  }
 },
 "nbformat": 4,
 "nbformat_minor": 2
}
