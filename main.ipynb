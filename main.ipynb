{
 "cells": [
  {
   "cell_type": "markdown",
   "metadata": {},
   "source": [
    "# Setup"
   ]
  },
  {
   "cell_type": "code",
   "execution_count": 1,
   "metadata": {},
   "outputs": [],
   "source": [
    "%reload_ext autoreload\n",
    "%autoreload 2\n",
    "\n",
    "from pathlib import Path\n",
    "\n",
    "import cv2\n",
    "import geopandas as gpd\n",
    "import matplotlib.pyplot as plt\n",
    "import numpy as np\n",
    "import pandas as pd\n",
    "import rasterio\n",
    "from geopandas import GeoDataFrame\n",
    "from shapely.geometry import Point\n",
    "from shapely.geometry import box\n",
    "\n",
    "from analyser import road_shapefile_to_opencv_mat, distance_transform_scipy"
   ]
  },
  {
   "cell_type": "markdown",
   "metadata": {},
   "source": [
    "## Paths"
   ]
  },
  {
   "cell_type": "code",
   "execution_count": 26,
   "metadata": {},
   "outputs": [],
   "source": [
    "PRESENTATION_MEDIA_DIR = Path(\"presentation_media\")\n",
    "DATA_DIR = Path(\"data/processed\")"
   ]
  },
  {
   "cell_type": "markdown",
   "metadata": {},
   "source": [
    "# Process Timeseries"
   ]
  },
  {
   "cell_type": "code",
   "execution_count": null,
   "metadata": {},
   "outputs": [],
   "source": [
    "data_dir = DATA_DIR / \"2024-09-26/PI4\"\n",
    "\n",
    "for file_path in data_dir.glob(\"*.csv\"):\n",
    "    df = pd.read_csv(file_path)\n",
    "    if df[\"CO2\"].std() < 50:\n",
    "        plt.plot(df[\"CO2\"])\n",
    "    plt.ylim(400, 600)\n",
    "\n",
    "plt.show()"
   ]
  },
  {
   "cell_type": "markdown",
   "metadata": {},
   "source": [
    "# Process Locations"
   ]
  },
  {
   "cell_type": "code",
   "execution_count": null,
   "metadata": {},
   "outputs": [],
   "source": [
    "dir_path = Path(\"data/processed/2024-09-26/locations\")\n",
    "locations_file_path = Path(\"data/processed/2024-09-26/locations/locations.csv\")\n",
    "df = pd.read_csv(locations_file_path)\n",
    "\n",
    "df[\"geometry\"] = df.apply(lambda row: Point(row[\"Longitude\"], row[\"Latitude\"]), axis=1)\n",
    "gdf = gpd.GeoDataFrame(df, geometry=\"geometry\", crs=\"EPSG:4326\")  # Setting CRS to WGS84\n",
    "gdf.to_file(dir_path / \"locations.shp\")\n",
    "\n",
    "gdf.plot()"
   ]
  },
  {
   "cell_type": "markdown",
   "metadata": {},
   "source": [
    "# Parameters"
   ]
  },
  {
   "cell_type": "markdown",
   "metadata": {},
   "source": [
    "## Distance Transform"
   ]
  },
  {
   "cell_type": "code",
   "execution_count": null,
   "metadata": {},
   "outputs": [],
   "source": [
    "proj_name = \"RoadSectionLine\"\n",
    "proj_path = Path(\"gis/RoadSectionLine_Jul2024\")\n",
    "shp_file_path = proj_path / f\"{proj_name}.shp\"\n",
    "\n",
    "gdf: GeoDataFrame = gpd.read_file(shp_file_path)\n",
    "gdf.plot()"
   ]
  },
  {
   "cell_type": "code",
   "execution_count": null,
   "metadata": {},
   "outputs": [],
   "source": [
    "min_lon, max_lon = 103.76, 103.775\n",
    "min_lat, max_lat = 1.304, 1.325\n",
    "\n",
    "bbox = box(min_lon, min_lat, max_lon, max_lat)\n",
    "bbox_gdf = gpd.GeoDataFrame([[1]], geometry=[bbox], crs=\"EPSG:4326\")\n",
    "transformed_gdf = gdf.to_crs(crs=\"EPSG:4326\")\n",
    "cropped_gdf = gpd.overlay(\n",
    "    transformed_gdf, bbox_gdf, how=\"intersection\", keep_geom_type=False\n",
    ")\n",
    "cropped_gdf.plot()\n",
    "\n",
    "points_gdf: GeoDataFrame = gpd.read_file(\n",
    "    Path(\"data/processed/2024-09-26/locations/locations.shp\")\n",
    ")\n",
    "points_gdf.plot(ax=plt.gca(), color=\"r\")"
   ]
  },
  {
   "cell_type": "code",
   "execution_count": null,
   "metadata": {},
   "outputs": [],
   "source": [
    "road_image = road_shapefile_to_opencv_mat(geo_data=cropped_gdf, img_width=3200)\n",
    "dist = cv2.distanceTransform(cv2.bitwise_not(road_image), cv2.DIST_L2, 0)\n",
    "\n",
    "plt.imshow(dist[:, :], origin=\"lower\")\n",
    "plt.colorbar()\n",
    "plt.show()"
   ]
  },
  {
   "cell_type": "code",
   "execution_count": null,
   "metadata": {},
   "outputs": [],
   "source": [
    "transform, distance_transform = distance_transform_scipy(\n",
    "    gdf=cropped_gdf, resolution=1e-5\n",
    ")\n",
    "\n",
    "with rasterio.open(\n",
    "    proj_path / \"processed\" / \"distance_transform.tif\",\n",
    "    \"w\",\n",
    "    driver=\"GTiff\",\n",
    "    height=distance_transform.shape[0],\n",
    "    width=distance_transform.shape[1],\n",
    "    count=1,\n",
    "    dtype=distance_transform.dtype,\n",
    "    crs=cropped_gdf.crs,\n",
    "    transform=transform,\n",
    ") as dst:\n",
    "    dst.write(distance_transform, 1)\n",
    "\n",
    "plt.imshow(distance_transform)\n",
    "plt.colorbar()\n",
    "plt.show()"
   ]
  },
  {
   "cell_type": "code",
   "execution_count": null,
   "metadata": {},
   "outputs": [],
   "source": []
  }
 ],
 "metadata": {
  "kernelspec": {
   "display_name": "co2",
   "language": "python",
   "name": "python3"
  },
  "language_info": {
   "codemirror_mode": {
    "name": "ipython",
    "version": 3
   },
   "file_extension": ".py",
   "mimetype": "text/x-python",
   "name": "python",
   "nbconvert_exporter": "python",
   "pygments_lexer": "ipython3",
   "version": "3.12.5"
  }
 },
 "nbformat": 4,
 "nbformat_minor": 2
}
