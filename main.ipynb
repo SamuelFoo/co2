{
 "cells": [
  {
   "cell_type": "markdown",
   "metadata": {},
   "source": [
    "# Setup\n"
   ]
  },
  {
   "cell_type": "code",
   "execution_count": null,
   "metadata": {},
   "outputs": [],
   "source": [
    "%reload_ext autoreload\n",
    "%autoreload 2\n",
    "\n",
    "from pathlib import Path\n",
    "\n",
    "import contextily as cx\n",
    "import cv2\n",
    "import geopandas as gpd\n",
    "import matplotlib.pyplot as plt\n",
    "import pandas as pd\n",
    "import rasterio\n",
    "from geopandas import GeoDataFrame\n",
    "from shapely.geometry import Point, box\n",
    "\n",
    "from analyser import distance_transform_scipy, road_shapefile_to_opencv_mat\n",
    "from plotting import COMP_DOMAIN, export_fig, get_map_axes, plot_with_scale\n",
    "from project import PRESENTATION_MEDIA_DIR"
   ]
  },
  {
   "cell_type": "markdown",
   "metadata": {},
   "source": [
    "# Process Locations\n"
   ]
  },
  {
   "cell_type": "code",
   "execution_count": null,
   "metadata": {},
   "outputs": [],
   "source": [
    "dir_path = Path(\"data/locations\")\n",
    "locations_file_path = dir_path / \"locations.csv\"\n",
    "df = pd.read_csv(locations_file_path)\n",
    "\n",
    "df[\"geometry\"] = df.apply(lambda row: Point(row[\"Longitude\"], row[\"Latitude\"]), axis=1)\n",
    "gdf = gpd.GeoDataFrame(df, geometry=\"geometry\", crs=\"EPSG:4326\")  # Setting CRS to WGS84\n",
    "gdf.to_file(dir_path / \"locations.shp\")\n",
    "\n",
    "gdf.plot()\n",
    "\n",
    "offset = 0.02\n",
    "offset_x = offset * (gdf.Longitude.max() - gdf.Longitude.min())\n",
    "offset_y = offset * (gdf.Latitude.max() - gdf.Latitude.min())\n",
    "\n",
    "for x, y, label in zip(\n",
    "    gdf.geometry.centroid.x, gdf.geometry.centroid.y, gdf[\"Location\"]\n",
    "):\n",
    "    plt.gca().text(x + offset_x, y + offset_y, label, fontsize=8, ha=\"center\")"
   ]
  },
  {
   "cell_type": "markdown",
   "metadata": {},
   "source": [
    "# Parameters\n"
   ]
  },
  {
   "cell_type": "markdown",
   "metadata": {},
   "source": [
    "## Basemap\n"
   ]
  },
  {
   "cell_type": "code",
   "execution_count": null,
   "metadata": {},
   "outputs": [],
   "source": [
    "proj_name = \"RoadSectionLine\"\n",
    "proj_path = Path(\"gis/RoadSectionLine_Jul2024\")\n",
    "shp_file_path = proj_path / f\"{proj_name}.shp\"\n",
    "\n",
    "gdf: GeoDataFrame = gpd.read_file(shp_file_path)\n",
    "ax = gdf.plot()\n",
    "plt.show()\n",
    "x_lim = ax.get_xlim()\n",
    "y_lim = ax.get_ylim()\n",
    "\n",
    "fig, ax = plt.subplots()\n",
    "ax.set_xlim(x_lim)\n",
    "ax.set_ylim(y_lim)\n",
    "ax = get_map_axes(ax)\n",
    "cx.add_basemap(ax, crs=gdf.crs.to_string(), source=cx.providers.OpenStreetMap.Mapnik)\n",
    "export_fig(fig, PRESENTATION_MEDIA_DIR / \"base_map.svg\")\n",
    "\n",
    "bbox = box(\n",
    "    COMP_DOMAIN.min_lon, COMP_DOMAIN.min_lat, COMP_DOMAIN.max_lon, COMP_DOMAIN.max_lat\n",
    ")\n",
    "bbox_gdf = gpd.GeoDataFrame([[1]], geometry=[bbox], crs=\"EPSG:4326\")\n",
    "bbox_gdf.to_crs(gdf.crs).plot(ax=ax, fc=\"none\", edgecolor=\"black\")\n",
    "\n",
    "cx.add_basemap(ax, crs=gdf.crs.to_string(), source=cx.providers.OpenStreetMap.Mapnik)\n",
    "export_fig(fig, PRESENTATION_MEDIA_DIR / \"base_map_with_bbox.svg\")"
   ]
  },
  {
   "cell_type": "markdown",
   "metadata": {},
   "source": [
    "## Computation Domain\n"
   ]
  },
  {
   "cell_type": "code",
   "execution_count": null,
   "metadata": {},
   "outputs": [],
   "source": [
    "gdf: GeoDataFrame = gpd.read_file(\n",
    "    Path(\"gis/RoadSectionLine_Jul2024/RoadSectionLine.shp\")\n",
    ")\n",
    "transformed_gdf = gdf.to_crs(crs=\"EPSG:4326\")\n",
    "points_gdf: GeoDataFrame = gpd.read_file(Path(\"data/locations/locations.shp\"))\n",
    "\n",
    "bbox = box(\n",
    "    COMP_DOMAIN.min_lon, COMP_DOMAIN.min_lat, COMP_DOMAIN.max_lon, COMP_DOMAIN.max_lat\n",
    ")\n",
    "bbox_gdf = gpd.GeoDataFrame([[1]], geometry=[bbox], crs=\"EPSG:4326\")\n",
    "cropped_gdf = gpd.overlay(transformed_gdf, bbox_gdf, keep_geom_type=True)\n",
    "\n",
    "fig, ax = plt.subplots()\n",
    "ax = plot_with_scale(ax, [cropped_gdf], [{\"zorder\": -1}])\n",
    "export_fig(fig, PRESENTATION_MEDIA_DIR / \"compute_domain.svg\")\n",
    "\n",
    "fig, ax = plt.subplots()\n",
    "ax = plot_with_scale(\n",
    "    ax, [points_gdf, cropped_gdf], [{\"color\": \"red\", \"zorder\": 3}, {\"zorder\": -1}]\n",
    ")\n",
    "export_fig(fig, PRESENTATION_MEDIA_DIR / \"points.svg\")"
   ]
  },
  {
   "cell_type": "markdown",
   "metadata": {},
   "source": [
    "## Distance Transform\n"
   ]
  },
  {
   "cell_type": "code",
   "execution_count": null,
   "metadata": {},
   "outputs": [],
   "source": [
    "min_lon, max_lon = 103.76, 103.775\n",
    "min_lat, max_lat = 1.303, 1.3225\n",
    "\n",
    "bbox = box(min_lon, min_lat, max_lon, max_lat)\n",
    "bbox_gdf = gpd.GeoDataFrame([[1]], geometry=[bbox], crs=\"EPSG:4326\")\n",
    "transformed_gdf = gdf.to_crs(crs=\"EPSG:4326\")\n",
    "cropped_gdf = gpd.overlay(\n",
    "    transformed_gdf, bbox_gdf, how=\"intersection\", keep_geom_type=False\n",
    ")\n",
    "\n",
    "fig, ax = plt.subplots()\n",
    "ax = plot_with_scale(\n",
    "    ax, [points_gdf, cropped_gdf], [{\"color\": \"red\", \"zorder\": 3}, {\"zorder\": -1}]\n",
    ")\n",
    "export_fig(fig, PRESENTATION_MEDIA_DIR / \"vis_domain.svg\")"
   ]
  },
  {
   "cell_type": "code",
   "execution_count": null,
   "metadata": {},
   "outputs": [],
   "source": [
    "road_image = road_shapefile_to_opencv_mat(geo_data=cropped_gdf, img_width=3200)\n",
    "dist = cv2.distanceTransform(cv2.bitwise_not(road_image), cv2.DIST_L2, 0)\n",
    "\n",
    "fig, ax = plt.subplots()\n",
    "ax.imshow(dist[:, :], origin=\"lower\")\n",
    "ax = get_map_axes(ax)"
   ]
  },
  {
   "cell_type": "code",
   "execution_count": null,
   "metadata": {},
   "outputs": [],
   "source": [
    "transform, distance_transform = distance_transform_scipy(\n",
    "    gdf=cropped_gdf, resolution=1e-5\n",
    ")\n",
    "\n",
    "processed_dir = proj_path / \"processed\"\n",
    "processed_dir.mkdir(exist_ok=True)\n",
    "\n",
    "with rasterio.open(\n",
    "    proj_path / \"processed\" / \"distance_transform.tif\",\n",
    "    \"w\",\n",
    "    driver=\"GTiff\",\n",
    "    height=distance_transform.shape[0],\n",
    "    width=distance_transform.shape[1],\n",
    "    count=1,\n",
    "    dtype=distance_transform.dtype,\n",
    "    crs=cropped_gdf.crs,\n",
    "    transform=transform,\n",
    ") as dst:\n",
    "    dst.write(distance_transform, 1)\n",
    "\n",
    "plt.imshow(distance_transform)\n",
    "plt.colorbar()\n",
    "plt.show()"
   ]
  },
  {
   "cell_type": "code",
   "execution_count": null,
   "metadata": {},
   "outputs": [],
   "source": []
  }
 ],
 "metadata": {
  "kernelspec": {
   "display_name": "co2",
   "language": "python",
   "name": "python3"
  },
  "language_info": {
   "codemirror_mode": {
    "name": "ipython",
    "version": 3
   },
   "file_extension": ".py",
   "mimetype": "text/x-python",
   "name": "python",
   "nbconvert_exporter": "python",
   "pygments_lexer": "ipython3",
   "version": "3.12.5"
  }
 },
 "nbformat": 4,
 "nbformat_minor": 2
}
